{
 "cells": [
  {
   "cell_type": "code",
   "execution_count": 13,
   "metadata": {},
   "outputs": [],
   "source": [
    "stocks_owned = {\"stock_name\":\"AAPL\",\n",
    "                \"purchased_at\":129.87\n",
    "               }"
   ]
  },
  {
   "cell_type": "code",
   "execution_count": 14,
   "metadata": {},
   "outputs": [],
   "source": [
    "string = str(stocks_owned)"
   ]
  },
  {
   "cell_type": "code",
   "execution_count": 15,
   "metadata": {},
   "outputs": [
    {
     "data": {
      "text/plain": [
       "\"{'stock_name': 'AAPL', 'purchased_at': 129.87}\""
      ]
     },
     "execution_count": 15,
     "metadata": {},
     "output_type": "execute_result"
    }
   ],
   "source": [
    "string"
   ]
  },
  {
   "cell_type": "code",
   "execution_count": null,
   "metadata": {},
   "outputs": [],
   "source": []
  },
  {
   "cell_type": "code",
   "execution_count": null,
   "metadata": {},
   "outputs": [],
   "source": []
  },
  {
   "cell_type": "code",
   "execution_count": 16,
   "metadata": {},
   "outputs": [],
   "source": [
    "stocks_owned =  [{\"stock_name\":\"AAPL\",\n",
    "                \"purchased_at\":129.87\n",
    "               },\n",
    "                {\"stock_name\":\"TSLA\",\n",
    "                \"purchased_at\":100.87\n",
    "               },\n",
    "                {\"stock_name\":\"AMZN\",\n",
    "                \"purchased_at\":159.87\n",
    "               }]"
   ]
  },
  {
   "cell_type": "code",
   "execution_count": 18,
   "metadata": {},
   "outputs": [],
   "source": [
    "for i in range(0,len(stocks_owned)):\n",
    "    stocks_owned[i] = str(stocks_owned[i])"
   ]
  },
  {
   "cell_type": "code",
   "execution_count": 19,
   "metadata": {},
   "outputs": [
    {
     "name": "stdout",
     "output_type": "stream",
     "text": [
      "Stock name is  AAPL\n",
      "Purchased at price  129.87\n",
      "Stock name is  TSLA\n",
      "Purchased at price  100.87\n",
      "Stock name is  AMZN\n",
      "Purchased at price  159.87\n"
     ]
    }
   ],
   "source": [
    "for item in stocks_owned:\n",
    "    obj = eval(item)\n",
    "    print(\"Stock name is \",obj['stock_name'])\n",
    "    print(\"Purchased at price \",obj['purchased_at'])"
   ]
  },
  {
   "cell_type": "code",
   "execution_count": null,
   "metadata": {},
   "outputs": [],
   "source": []
  }
 ],
 "metadata": {
  "kernelspec": {
   "display_name": "Python 3",
   "language": "python",
   "name": "python3"
  },
  "language_info": {
   "codemirror_mode": {
    "name": "ipython",
    "version": 3
   },
   "file_extension": ".py",
   "mimetype": "text/x-python",
   "name": "python",
   "nbconvert_exporter": "python",
   "pygments_lexer": "ipython3",
   "version": "3.6.8"
  }
 },
 "nbformat": 4,
 "nbformat_minor": 2
}
