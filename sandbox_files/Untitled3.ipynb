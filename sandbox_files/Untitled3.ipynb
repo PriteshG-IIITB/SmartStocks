{
 "cells": [
  {
   "cell_type": "code",
   "execution_count": 13,
   "metadata": {},
   "outputs": [],
   "source": [
    "stocks_owned = {\"stock_name\":\"AAPL\",\n",
    "                \"purchased_at\":129.87\n",
    "               }"
   ]
  },
  {
   "cell_type": "code",
   "execution_count": 14,
   "metadata": {},
   "outputs": [],
   "source": [
    "string = str(stocks_owned)"
   ]
  },
  {
   "cell_type": "code",
   "execution_count": 15,
   "metadata": {},
   "outputs": [
    {
     "data": {
      "text/plain": [
       "\"{'stock_name': 'AAPL', 'purchased_at': 129.87}\""
      ]
     },
     "execution_count": 15,
     "metadata": {},
     "output_type": "execute_result"
    }
   ],
   "source": [
    "string"
   ]
  },
  {
   "cell_type": "code",
   "execution_count": null,
   "metadata": {},
   "outputs": [],
   "source": []
  },
  {
   "cell_type": "code",
   "execution_count": null,
   "metadata": {},
   "outputs": [],
   "source": []
  },
  {
   "cell_type": "code",
   "execution_count": 16,
   "metadata": {},
   "outputs": [],
   "source": [
    "stocks_owned =  [{\"stock_name\":\"AAPL\",\n",
    "                \"purchased_at\":129.87\n",
    "               },\n",
    "                {\"stock_name\":\"TSLA\",\n",
    "                \"purchased_at\":100.87\n",
    "               },\n",
    "                {\"stock_name\":\"AMZN\",\n",
    "                \"purchased_at\":159.87\n",
    "               }]"
   ]
  },
  {
   "cell_type": "code",
   "execution_count": 18,
   "metadata": {},
   "outputs": [],
   "source": [
    "for i in range(0,len(stocks_owned)):\n",
    "    stocks_owned[i] = str(stocks_owned[i])"
   ]
  },
  {
   "cell_type": "code",
   "execution_count": 19,
   "metadata": {},
   "outputs": [
    {
     "name": "stdout",
     "output_type": "stream",
     "text": [
      "Stock name is  AAPL\n",
      "Purchased at price  129.87\n",
      "Stock name is  TSLA\n",
      "Purchased at price  100.87\n",
      "Stock name is  AMZN\n",
      "Purchased at price  159.87\n"
     ]
    }
   ],
   "source": [
    "for item in stocks_owned:\n",
    "    obj = eval(item)\n",
    "    print(\"Stock name is \",obj['stock_name'])\n",
    "    print(\"Purchased at price \",obj['purchased_at'])"
   ]
  },
  {
   "cell_type": "code",
   "execution_count": 2,
   "metadata": {},
   "outputs": [],
   "source": []
  },
  {
   "cell_type": "code",
   "execution_count": null,
   "metadata": {},
   "outputs": [],
   "source": [
    "\n",
    "from iex import Stock, reference\n",
    "from iexfinance.stocks import get_historical_data\n",
    "from datetime import datetime\n",
    "from time import sleep\n",
    "import pandas as pd\n",
    "import os\n",
    "import iex\n",
    "import csv\n",
    "\n",
    "from pandas_datareader import data as pdr\n",
    "import fix_yahoo_finance as yf\n",
    "\n",
    "yf.pdr_override()\n",
    "\n",
    "symbols = reference.symbols()['symbol']\n",
    "\n",
    "\n",
    "failed_symbols = []\n",
    "\n",
    "\n",
    "for i in range (0,len(symbols)):\n",
    "    counter = i\n",
    "    symbol = symbols[i]       \n",
    "\n",
    "    \n",
    "    print(\"counter is \", counter,\"symbol is \",symbol)\n",
    "    try:\n",
    "        sleep(0.03)\n",
    "        start_time = datetime(2014, 1, 1)\n",
    "        end_time = datetime(2019, 6, 16)\n",
    "#         df =  get_historical_data(symbol, start, end,output_format='pandas')\n",
    "        df = pdr.get_data_yahoo(symbol,start_time,end_time)\n",
    "        file_name = symbol+\".csv\"\n",
    "        file_path  = os.path.join(os.getcwd(),\"temp_data\",file_name)\n",
    "#         file_path = os.path.join(os.getcwd(),file_name)\n",
    "        print(file_path)\n",
    "        df.to_csv(file_path)\n",
    "    except:\n",
    "        print(\"Error occurred\")\n",
    "        failed_symbols.append(symbol)\n",
    "        sleep(3)\n",
    "        "
   ]
  },
  {
   "cell_type": "code",
   "execution_count": 73,
   "metadata": {
    "scrolled": true
   },
   "outputs": [],
   "source": [
    "full_list = pdr.get_iex_symbols()\n",
    "full_list = full_list[\"symbol\"]\n",
    "full_list = full_list.tolist()\n",
    "\n",
    "\n",
    "present_list = os.listdir(\"temp_data\")\n",
    "present_list = [ item[:-4] for item in present_list]\n",
    "\n",
    "\n",
    "full_list_set = set(full_list)\n",
    "present_list_set = set(present_list)"
   ]
  },
  {
   "cell_type": "code",
   "execution_count": 74,
   "metadata": {},
   "outputs": [],
   "source": [
    "missing_symbols = full_list_set - present_list_set\n",
    "missing_symbols = list(missing_symbols)"
   ]
  },
  {
   "cell_type": "code",
   "execution_count": null,
   "metadata": {
    "scrolled": true
   },
   "outputs": [],
   "source": []
  },
  {
   "cell_type": "markdown",
   "metadata": {},
   "source": [
    "# Manager"
   ]
  },
  {
   "cell_type": "code",
   "execution_count": 161,
   "metadata": {},
   "outputs": [],
   "source": [
    "import os\n",
    "import subprocess\n",
    "import time\n",
    "\n",
    "from datetime import date,timedelta\n",
    "from time import mktime\n",
    "from iex import Stock, reference\n",
    "from iexfinance.stocks import get_historical_data\n",
    "from datetime import datetime\n",
    "from time import sleep\n",
    "import pandas as pd\n",
    "import os\n",
    "import iex\n",
    "import csv\n",
    "\n",
    "\n",
    "from pandas_datareader import data as pdr\n",
    "import fix_yahoo_finance as yf\n",
    "yf.pdr_override()\n"
   ]
  },
  {
   "cell_type": "code",
   "execution_count": 162,
   "metadata": {},
   "outputs": [],
   "source": [
    "def get_file_path(symbol):\n",
    "    cwd = os.getcwd().split(\"/\")[:-1]\n",
    "    path = (\"/\").join(cwd)\n",
    "    file_path = os.path.join(path,\"stocks_data\",symbol+\".csv\")\n",
    "#     line = str(subprocess.check_output(['tail', '-1', file_path]))\n",
    "#     line = line.split(\",\")[0][2:].split(\"-\")\n",
    "#     line = [int(item) for item in line]\n",
    "#     last = date(line[0],line[1],line[2])\n",
    "#     return last, file_path\n",
    "    return \"\".join(file_path)\n",
    "    \n",
    "    \n",
    "    \n",
    "    "
   ]
  },
  {
   "cell_type": "code",
   "execution_count": 88,
   "metadata": {},
   "outputs": [],
   "source": [
    "cwd = os.getcwd().split(\"/\")[:-1]\n",
    "path = (\"/\").join(cwd)\n",
    "path = os.path.join(path,\"stocks_data\")\n",
    "\n",
    "available_stocks = os.listdir(path)\n",
    "# stocks = [stock[:-4]for stock in stocks]\n",
    "# available_symbols = stocks\n",
    "# available_stocks"
   ]
  },
  {
   "cell_type": "code",
   "execution_count": 156,
   "metadata": {},
   "outputs": [
    {
     "data": {
      "text/plain": [
       "numpy.float64"
      ]
     },
     "execution_count": 156,
     "metadata": {},
     "output_type": "execute_result"
    }
   ],
   "source": [
    "# cwd = os.getcwd().split(\"/\")[:-1]\n",
    "# path = (\"/\").join(cwd)\n",
    "# path = os.path.join(path,\"stocks_data\")\n",
    "# available_stocks = os.listdir(path)\n",
    "# available_stocks = [stock[:-4]for stock in available_stocks]\n",
    "\n",
    "\n",
    "cwd = os.getcwd().split(\"/\")[:-1]\n",
    "path = (\"/\").join(cwd)\n",
    "path = os.path.join(path,\"stocks_data\")\n",
    "available_stocks = os.listdir(path)\n",
    "\n",
    "available_stocks = [stock[:-4]for stock in available_stocks]\n",
    "\n",
    "available_stocks.sort()\n",
    "\n",
    "\n",
    "df = pd.read_csv(path + \"/A.csv\")\n",
    "\n"
   ]
  },
  {
   "cell_type": "code",
   "execution_count": 164,
   "metadata": {},
   "outputs": [
    {
     "name": "stdout",
     "output_type": "stream",
     "text": [
      "https://api.iextrading.com/1.0/stock/A/price\n",
      "['2019-04-16', 0, 0, 0, 80.4, 0, 0] /home/sourabh/Work/Course Work/Sem 2/SPE/project/SmartStocks/stocks_data/A.csv \n",
      "\n",
      "\n",
      "<class 'str'>\n"
     ]
    }
   ],
   "source": [
    "cwd = os.getcwd().split(\"/\")[:-1]\n",
    "path = (\"/\").join(cwd)\n",
    "path = os.path.join(path,\"stocks_data\")\n",
    "available_stocks = os.listdir(path)\n",
    "\n",
    "available_stocks = [stock[:-4]for stock in available_stocks]\n",
    "\n",
    "available_stocks.sort()\n",
    "\n",
    "\n",
    "\n",
    "for i in range(0,len(available_stocks)):\n",
    "    \n",
    "   \n",
    "    current_symbol = available_stocks[i]\n",
    "    today = datetime.today().date()\n",
    "        \n",
    "    try:\n",
    "        sleep(1)\n",
    "        current_stock =  Stock(current_symbol)\n",
    "        price = current_stock.price()\n",
    "        row = [str(today),0,0,0]\n",
    "#         row.append(str(today))\n",
    "#         row.append(0)\n",
    "        row.append(price)\n",
    "        row.append(0)\n",
    "        row.append(0)    \n",
    "        file_path = get_file_path(current_symbol)\n",
    "        \n",
    "        print(row,file_path,\"\\n\\n\")\n",
    "        \n",
    "    except:\n",
    "        print(\"Error\")\n",
    "        i -= 1\n",
    "        sleep(3)\n",
    "        \n",
    "        \n",
    "    print(type(file_path))\n",
    "    with open(file_path,'a') as f:\n",
    "        writer = csv.writer(f)\n",
    "        writer.writerow(row)\n",
    "        \n",
    "\n",
    "\n",
    "\n",
    "# for i in range (0,len(available_stocks)):\n",
    "#     if i == 1:\n",
    "#         break\n",
    "        \n",
    "#     current_symbol = available_symbols[i]\n",
    "    \n",
    "#     today = datetime.today().date()\n",
    "#     print(\"i is \",i,current_symbol,today)    \n",
    "    \n",
    "#     try:\n",
    "# #         start_date = last_date + timedelta(days=1)\n",
    "# #         end_date = today\n",
    "# #         print(start_date,end_date)\n",
    "# #         df = pdr.get_data_yahoo(current_symbol,start_date,end_date)\n",
    "# #         df.to_csv(file_path, mode='a', header=False)\n",
    "# #         print(df)\n",
    "# #         #df.to_csv(file_path, mode='a', header=False)\n",
    "        \n",
    "        \n",
    "# #         sleep(0.05)        \n",
    "#         current_stock =  Stock(current_symbol)\n",
    "#         price = current_stock.price()\n",
    "#         row = []\n",
    "#         row.append(today)\n",
    "#         row.append(price)\n",
    "#         file_path = get_file_path(current_symbol)\n",
    "        \n",
    "#         print(\"Current symbol\",current_symbol)\n",
    "        \n",
    "#         with open(file_path,'a') as f:\n",
    "#             writer = csv.writer(f)\n",
    "#             writer.writerow(row)\n",
    "\n",
    "#     except:\n",
    "#         print(\"Error occurred\")\n",
    "#         sleep(5)"
   ]
  },
  {
   "cell_type": "code",
   "execution_count": 20,
   "metadata": {},
   "outputs": [],
   "source": [
    "aapl = iex.Stock(\"AAP\")"
   ]
  },
  {
   "cell_type": "code",
   "execution_count": 25,
   "metadata": {},
   "outputs": [
    {
     "name": "stdout",
     "output_type": "stream",
     "text": [
      "https://api.iextrading.com/1.0/stock/AAP/price\n"
     ]
    },
    {
     "data": {
      "text/plain": [
       "181.43"
      ]
     },
     "execution_count": 25,
     "metadata": {},
     "output_type": "execute_result"
    }
   ],
   "source": [
    "aapl.price()"
   ]
  },
  {
   "cell_type": "code",
   "execution_count": null,
   "metadata": {},
   "outputs": [],
   "source": []
  }
 ],
 "metadata": {
  "kernelspec": {
   "display_name": "Python 3",
   "language": "python",
   "name": "python3"
  },
  "language_info": {
   "codemirror_mode": {
    "name": "ipython",
    "version": 3
   },
   "file_extension": ".py",
   "mimetype": "text/x-python",
   "name": "python",
   "nbconvert_exporter": "python",
   "pygments_lexer": "ipython3",
   "version": "3.6.8"
  }
 },
 "nbformat": 4,
 "nbformat_minor": 2
}
