{
 "cells": [
  {
   "cell_type": "code",
   "execution_count": 13,
   "metadata": {},
   "outputs": [],
   "source": [
    "stocks_owned = {\"stock_name\":\"AAPL\",\n",
    "                \"purchased_at\":129.87\n",
    "               }"
   ]
  },
  {
   "cell_type": "code",
   "execution_count": 14,
   "metadata": {},
   "outputs": [],
   "source": [
    "string = str(stocks_owned)"
   ]
  },
  {
   "cell_type": "code",
   "execution_count": 15,
   "metadata": {},
   "outputs": [
    {
     "data": {
      "text/plain": [
       "\"{'stock_name': 'AAPL', 'purchased_at': 129.87}\""
      ]
     },
     "execution_count": 15,
     "metadata": {},
     "output_type": "execute_result"
    }
   ],
   "source": [
    "string"
   ]
  },
  {
   "cell_type": "code",
   "execution_count": null,
   "metadata": {},
   "outputs": [],
   "source": []
  },
  {
   "cell_type": "code",
   "execution_count": null,
   "metadata": {},
   "outputs": [],
   "source": []
  },
  {
   "cell_type": "code",
   "execution_count": 16,
   "metadata": {},
   "outputs": [],
   "source": [
    "stocks_owned =  [{\"stock_name\":\"AAPL\",\n",
    "                \"purchased_at\":129.87\n",
    "               },\n",
    "                {\"stock_name\":\"TSLA\",\n",
    "                \"purchased_at\":100.87\n",
    "               },\n",
    "                {\"stock_name\":\"AMZN\",\n",
    "                \"purchased_at\":159.87\n",
    "               }]"
   ]
  },
  {
   "cell_type": "code",
   "execution_count": 18,
   "metadata": {},
   "outputs": [],
   "source": [
    "for i in range(0,len(stocks_owned)):\n",
    "    stocks_owned[i] = str(stocks_owned[i])"
   ]
  },
  {
   "cell_type": "code",
   "execution_count": 19,
   "metadata": {},
   "outputs": [
    {
     "name": "stdout",
     "output_type": "stream",
     "text": [
      "Stock name is  AAPL\n",
      "Purchased at price  129.87\n",
      "Stock name is  TSLA\n",
      "Purchased at price  100.87\n",
      "Stock name is  AMZN\n",
      "Purchased at price  159.87\n"
     ]
    }
   ],
   "source": [
    "for item in stocks_owned:\n",
    "    obj = eval(item)\n",
    "    print(\"Stock name is \",obj['stock_name'])\n",
    "    print(\"Purchased at price \",obj['purchased_at'])"
   ]
  },
  {
   "cell_type": "code",
   "execution_count": 2,
   "metadata": {},
   "outputs": [],
   "source": []
  },
  {
   "cell_type": "code",
   "execution_count": null,
   "metadata": {},
   "outputs": [],
   "source": [
    "\n",
    "from iex import Stock, reference\n",
    "from iexfinance.stocks import get_historical_data\n",
    "from datetime import datetime\n",
    "from time import sleep\n",
    "import pandas as pd\n",
    "import os\n",
    "import iex\n",
    "import csv\n",
    "\n",
    "from pandas_datareader import data as pdr\n",
    "import fix_yahoo_finance as yf\n",
    "\n",
    "yf.pdr_override()\n",
    "\n",
    "symbols = reference.symbols()['symbol']\n",
    "\n",
    "\n",
    "failed_symbols = []\n",
    "\n",
    "\n",
    "for i in range (0,len(symbols)):\n",
    "    counter = i\n",
    "    symbol = symbols[i]       \n",
    "\n",
    "    \n",
    "    print(\"counter is \", counter,\"symbol is \",symbol)\n",
    "    try:\n",
    "        sleep(0.03)\n",
    "        start_time = datetime(2014, 1, 1)\n",
    "        end_time = datetime(2019, 6, 16)\n",
    "#         df =  get_historical_data(symbol, start, end,output_format='pandas')\n",
    "        df = pdr.get_data_yahoo(symbol,start_time,end_time)\n",
    "        file_name = symbol+\".csv\"\n",
    "        file_path  = os.path.join(os.getcwd(),\"temp_data\",file_name)\n",
    "#         file_path = os.path.join(os.getcwd(),file_name)\n",
    "        print(file_path)\n",
    "        df.to_csv(file_path)\n",
    "    except:\n",
    "        print(\"Error occurred\")\n",
    "        failed_symbols.append(symbol)\n",
    "        sleep(3)\n",
    "        "
   ]
  },
  {
   "cell_type": "code",
   "execution_count": 73,
   "metadata": {
    "scrolled": true
   },
   "outputs": [],
   "source": [
    "full_list = pdr.get_iex_symbols()\n",
    "full_list = full_list[\"symbol\"]\n",
    "full_list = full_list.tolist()\n",
    "\n",
    "\n",
    "present_list = os.listdir(\"temp_data\")\n",
    "present_list = [ item[:-4] for item in present_list]\n",
    "\n",
    "\n",
    "full_list_set = set(full_list)\n",
    "present_list_set = set(present_list)"
   ]
  },
  {
   "cell_type": "code",
   "execution_count": 74,
   "metadata": {},
   "outputs": [],
   "source": [
    "missing_symbols = full_list_set - present_list_set\n",
    "missing_symbols = list(missing_symbols)"
   ]
  },
  {
   "cell_type": "code",
   "execution_count": null,
   "metadata": {
    "scrolled": true
   },
   "outputs": [],
   "source": []
  },
  {
   "cell_type": "markdown",
   "metadata": {},
   "source": [
    "# Manager"
   ]
  },
  {
   "cell_type": "code",
   "execution_count": 161,
   "metadata": {},
   "outputs": [],
   "source": [
    "import os\n",
    "import subprocess\n",
    "import time\n",
    "\n",
    "from datetime import date,timedelta\n",
    "from time import mktime\n",
    "from iex import Stock, reference\n",
    "from iexfinance.stocks import get_historical_data\n",
    "from datetime import datetime\n",
    "from time import sleep\n",
    "import pandas as pd\n",
    "import os\n",
    "import iex\n",
    "import csv\n",
    "\n",
    "\n",
    "from pandas_datareader import data as pdr\n",
    "import fix_yahoo_finance as yf\n",
    "yf.pdr_override()\n"
   ]
  },
  {
   "cell_type": "code",
   "execution_count": 162,
   "metadata": {},
   "outputs": [],
   "source": [
    "def get_file_path(symbol):\n",
    "    cwd = os.getcwd().split(\"/\")[:-1]\n",
    "    path = (\"/\").join(cwd)\n",
    "    file_path = os.path.join(path,\"stocks_data\",symbol+\".csv\")\n",
    "#     line = str(subprocess.check_output(['tail', '-1', file_path]))\n",
    "#     line = line.split(\",\")[0][2:].split(\"-\")\n",
    "#     line = [int(item) for item in line]\n",
    "#     last = date(line[0],line[1],line[2])\n",
    "#     return last, file_path\n",
    "    return \"\".join(file_path)\n",
    "    \n",
    "    \n",
    "    \n",
    "    "
   ]
  },
  {
   "cell_type": "code",
   "execution_count": 88,
   "metadata": {},
   "outputs": [],
   "source": [
    "cwd = os.getcwd().split(\"/\")[:-1]\n",
    "path = (\"/\").join(cwd)\n",
    "path = os.path.join(path,\"stocks_data\")\n",
    "\n",
    "available_stocks = os.listdir(path)\n",
    "# stocks = [stock[:-4]for stock in stocks]\n",
    "# available_symbols = stocks\n",
    "# available_stocks"
   ]
  },
  {
   "cell_type": "code",
   "execution_count": 156,
   "metadata": {},
   "outputs": [
    {
     "data": {
      "text/plain": [
       "numpy.float64"
      ]
     },
     "execution_count": 156,
     "metadata": {},
     "output_type": "execute_result"
    }
   ],
   "source": [
    "# cwd = os.getcwd().split(\"/\")[:-1]\n",
    "# path = (\"/\").join(cwd)\n",
    "# path = os.path.join(path,\"stocks_data\")\n",
    "# available_stocks = os.listdir(path)\n",
    "# available_stocks = [stock[:-4]for stock in available_stocks]\n",
    "\n",
    "\n",
    "cwd = os.getcwd().split(\"/\")[:-1]\n",
    "path = (\"/\").join(cwd)\n",
    "path = os.path.join(path,\"stocks_data\")\n",
    "available_stocks = os.listdir(path)\n",
    "\n",
    "available_stocks = [stock[:-4]for stock in available_stocks]\n",
    "\n",
    "available_stocks.sort()\n",
    "\n",
    "\n",
    "df = pd.read_csv(path + \"/A.csv\")\n",
    "\n"
   ]
  },
  {
   "cell_type": "code",
   "execution_count": 164,
   "metadata": {},
   "outputs": [
    {
     "name": "stdout",
     "output_type": "stream",
     "text": [
      "https://api.iextrading.com/1.0/stock/A/price\n",
      "['2019-04-16', 0, 0, 0, 80.4, 0, 0] /home/sourabh/Work/Course Work/Sem 2/SPE/project/SmartStocks/stocks_data/A.csv \n",
      "\n",
      "\n",
      "<class 'str'>\n"
     ]
    }
   ],
   "source": [
    "cwd = os.getcwd().split(\"/\")[:-1]\n",
    "path = (\"/\").join(cwd)\n",
    "path = os.path.join(path,\"stocks_data\")\n",
    "available_stocks = os.listdir(path)\n",
    "\n",
    "available_stocks = [stock[:-4]for stock in available_stocks]\n",
    "\n",
    "available_stocks.sort()\n",
    "\n",
    "\n",
    "\n",
    "for i in range(0,len(available_stocks)):\n",
    "    \n",
    "   \n",
    "    current_symbol = available_stocks[i]\n",
    "    today = datetime.today().date()\n",
    "        \n",
    "    try:\n",
    "        sleep(1)\n",
    "        current_stock =  Stock(current_symbol)\n",
    "        price = current_stock.price()\n",
    "        row = [str(today),0,0,0]\n",
    "#         row.append(str(today))\n",
    "#         row.append(0)\n",
    "        row.append(price)\n",
    "        row.append(0)\n",
    "        row.append(0)    \n",
    "        file_path = get_file_path(current_symbol)\n",
    "        \n",
    "        print(row,file_path,\"\\n\\n\")\n",
    "        \n",
    "    except:\n",
    "        print(\"Error\")\n",
    "        i -= 1\n",
    "        sleep(3)\n",
    "        \n",
    "        \n",
    "    print(type(file_path))\n",
    "    with open(file_path,'a') as f:\n",
    "        writer = csv.writer(f)\n",
    "        writer.writerow(row)\n",
    "        \n",
    "\n",
    "\n",
    "\n",
    "# for i in range (0,len(available_stocks)):\n",
    "#     if i == 1:\n",
    "#         break\n",
    "        \n",
    "#     current_symbol = available_symbols[i]\n",
    "    \n",
    "#     today = datetime.today().date()\n",
    "#     print(\"i is \",i,current_symbol,today)    \n",
    "    \n",
    "#     try:\n",
    "# #         start_date = last_date + timedelta(days=1)\n",
    "# #         end_date = today\n",
    "# #         print(start_date,end_date)\n",
    "# #         df = pdr.get_data_yahoo(current_symbol,start_date,end_date)\n",
    "# #         df.to_csv(file_path, mode='a', header=False)\n",
    "# #         print(df)\n",
    "# #         #df.to_csv(file_path, mode='a', header=False)\n",
    "        \n",
    "        \n",
    "# #         sleep(0.05)        \n",
    "#         current_stock =  Stock(current_symbol)\n",
    "#         price = current_stock.price()\n",
    "#         row = []\n",
    "#         row.append(today)\n",
    "#         row.append(price)\n",
    "#         file_path = get_file_path(current_symbol)\n",
    "        \n",
    "#         print(\"Current symbol\",current_symbol)\n",
    "        \n",
    "#         with open(file_path,'a') as f:\n",
    "#             writer = csv.writer(f)\n",
    "#             writer.writerow(row)\n",
    "\n",
    "#     except:\n",
    "#         print(\"Error occurred\")\n",
    "#         sleep(5)"
   ]
  },
  {
   "cell_type": "code",
   "execution_count": 20,
   "metadata": {},
   "outputs": [],
   "source": [
    "aapl = iex.Stock(\"AAP\")"
   ]
  },
  {
   "cell_type": "markdown",
   "metadata": {},
   "source": [
    "# Handling exceptions for missing chart/description and table data"
   ]
  },
  {
   "cell_type": "code",
   "execution_count": 2,
   "metadata": {},
   "outputs": [
    {
     "data": {
      "text/plain": [
       "'Applied Optoelectronics, Inc., incorporated on March 25, 2013, is a vertically integrated provider of fiber-optic networking products, primarily for networking end markets, such as Internet data center, cable television (CATV), fiber-to-the-home (FTTH) and telecommunications (telecom). The Company designs and manufactures a range of optical communications products at varying levels of integration, from components, subassemblies and modules to turnkey equipment. To Internet-based (Web 2.0) data center operators, the Company supplies optical transceivers that plug into switches and servers within the data center and allow these network devices to send and receive data over fiber optic cables. The Company supplies a range of products, including lasers, transmitters and transceivers, and turnkey equipment, to the CATV market.'"
      ]
     },
     "execution_count": 2,
     "metadata": {},
     "output_type": "execute_result"
    }
   ],
   "source": [
    "############## Handing description data\n",
    "\n",
    "from bs4 import BeautifulSoup\n",
    "import requests\n",
    "\n",
    "\n",
    "\n",
    "base_url = \"https://www.reuters.com/finance/stocks/companyProfile/\"\n",
    "url = base_url + \"AAOI\"\n",
    "page = requests.get(url)\n",
    "soup = BeautifulSoup(page.text, 'html.parser')\n",
    "mydivs = soup.findAll(\"div\", {\"class\": \"moduleBody\"})\n",
    "data = mydivs[1].findChildren(\"p\")[0].text\n",
    "data"
   ]
  },
  {
   "cell_type": "code",
   "execution_count": 3,
   "metadata": {},
   "outputs": [],
   "source": [
    "################### Handling Table data\n",
    "base_url = \"https://www.reuters.com/finance/stocks/companyProfile/\"\n",
    "url = base_url + \"AAOI\"\n",
    "page = requests.get(url)\n",
    "soup = BeautifulSoup(page.text, 'html.parser')\n",
    "\n",
    "table = soup.findAll(\"div\", {\"class\": \"column2\"}) \n",
    "\n"
   ]
  },
  {
   "cell_type": "code",
   "execution_count": 4,
   "metadata": {},
   "outputs": [
    {
     "data": {
      "text/plain": [
       "<div class=\"column2 gridPanel grid4\">\n",
       "<div id=\"div_gpt_mpu\"><script>\n",
       "gatherAd('div_gpt_mpu', [[300,250],[1,1],[300,600],[300,1050]], TR3.extractDartZone(), 'yes', 'mpu');\n",
       "</script></div><div class=\"linebreak\"></div>\n",
       "<div class=\"module\">\n",
       "<div class=\"moduleHeader\">\n",
       "<h3>\n",
       "\t\t\t\t\tCompany Address</h3>\n",
       "</div>\n",
       "<div class=\"moduleBody\">\n",
       "<div class=\"feature\">\n",
       "<h2>Applied Optoelectronics Inc</h2>\n",
       "<p>13139 Jess Pirtle Blvd<br/>SUGAR LAND   TX   77478-2856<br/>\n",
       "P: +1281.2951800<br/>F: +1302.6555049<br/></p>\n",
       "</div>\n",
       "</div>\n",
       "</div>\n",
       "<div class=\"linebreak\"></div>\n",
       "<div class=\"module\">\n",
       "<div class=\"moduleHeader\">\n",
       "<h3>\n",
       "\t\t\t\t\tCompany Web Links</h3>\n",
       "</div>\n",
       "<div class=\"moduleBody\">\n",
       "<ul>\n",
       "<li><a href=\"http://ao-inc.com/\" target=\"_blank\">Home Page</a></li>\n",
       "</ul>\n",
       "</div>\n",
       "</div>\n",
       "<div class=\"linebreak\"></div>\n",
       "<div class=\"module\">\n",
       "<div class=\"moduleHeader\">\n",
       "<h3>\n",
       "<a href=\"/finance/stocks/companyOfficers?symbol=AAOI.A\">\n",
       "\t\t\t\t\tOfficers &amp; Directors</a>\n",
       "</h3>\n",
       "</div>\n",
       "<div class=\"moduleBody\">\n",
       "<table border=\"0\" cellpadding=\"1\" cellspacing=\"0\" class=\"dataTable\" width=\"100%\">\n",
       "<tbody class=\"dataSmall\">\n",
       "<tr>\n",
       "<th>Name</th>\n",
       "<th>Compensation</th>\n",
       "</tr>\n",
       "<tr class=\"stripe\">\n",
       "<td><h2 class=\"officers\">\n",
       "<a class=\"link\" href=\"/finance/stocks/officer-profile/AAOI.A/1906762\">\n",
       "\t\t\t\t\t\t\t Chih-Hsiang Lin</a>\n",
       "</h2></td>\n",
       "<td class=\"data\">5,407,720</td>\n",
       "</tr>\n",
       "<tr>\n",
       "<td><h2 class=\"officers\">\n",
       "<a class=\"link\" href=\"/finance/stocks/officer-profile/AAOI.A/2262568\">\n",
       "\t\t\t\t\t\t\t Stefan Murry</a>\n",
       "</h2></td>\n",
       "<td class=\"data\">1,410,920</td>\n",
       "</tr>\n",
       "<tr class=\"stripe\">\n",
       "<td><h2 class=\"officers\">\n",
       "<a class=\"link\" href=\"/finance/stocks/officer-profile/AAOI.A/2448301\">\n",
       "\t\t\t\t\t\t\t Hung-Lun Chang</a>\n",
       "</h2></td>\n",
       "<td class=\"data\">1,372,570</td>\n",
       "</tr>\n",
       "<tr>\n",
       "<td><h2 class=\"officers\">\n",
       "<a class=\"link\" href=\"/finance/stocks/officer-profile/AAOI.A/2448303\">\n",
       "\t\t\t\t\t\t\t Shu-Hua Yeh</a>\n",
       "</h2></td>\n",
       "<td class=\"data\">1,457,150</td>\n",
       "</tr>\n",
       "<tr class=\"stripe\">\n",
       "<td><h2 class=\"officers\">\n",
       "<a class=\"link\" href=\"/finance/stocks/officer-profile/AAOI.A/2448305\">\n",
       "\t\t\t\t\t\t\t David Kuo</a>\n",
       "</h2></td>\n",
       "<td class=\"data\">840,469</td>\n",
       "</tr>\n",
       "</tbody>\n",
       "</table>\n",
       "<div class=\"moreLink\">\n",
       "<a href=\"/finance/stocks/companyOfficers?symbol=AAOI.A\">» More Officers &amp; Directors</a></div></div>\n",
       "</div>\n",
       "<div class=\"module\">\n",
       "<div class=\"moduleHeader\">\n",
       "<h3>\n",
       "<a href=\"/finance/stocks/companyNews?symbol=AAOI.A\">\n",
       "\t\t\t\t\tApplied Optoelectronics Inc News</a>\n",
       "</h3>\n",
       "</div>\n",
       "<div class=\"moduleBody\">\n",
       "<div class=\"moreLink\">\n",
       "<a href=\"/finance/stocks/companyNews?symbol=AAOI.A\">» More AAOI.A  News</a></div></div>\n",
       "</div>\n",
       "<script>\n",
       "\tvar topStoryGrid = $('#topStory').find('.grid8');\n",
       "\tif (topStoryGrid.hasClass('grid8')) {\n",
       "\t    if ($('#latestHeadlines')) {\n",
       "\t        $('#latestHeadlines').remove();\n",
       "\t    }\n",
       "\t};\n",
       "</script>\n",
       "<div id=\"div_gpt_mpulow\"><script>\n",
       "gatherAd('div_gpt_mpulow', [[300, 250],[300,600],[300,1050]], TR3.extractDartZone(), 'yes', 'mpulow');\n",
       "</script></div>\n",
       "</div>"
      ]
     },
     "execution_count": 4,
     "metadata": {},
     "output_type": "execute_result"
    }
   ],
   "source": [
    "table[0]"
   ]
  },
  {
   "cell_type": "code",
   "execution_count": null,
   "metadata": {},
   "outputs": [],
   "source": []
  }
 ],
 "metadata": {
  "kernelspec": {
   "display_name": "Python 3",
   "language": "python",
   "name": "python3"
  },
  "language_info": {
   "codemirror_mode": {
    "name": "ipython",
    "version": 3
   },
   "file_extension": ".py",
   "mimetype": "text/x-python",
   "name": "python",
   "nbconvert_exporter": "python",
   "pygments_lexer": "ipython3",
   "version": "3.6.8"
  }
 },
 "nbformat": 4,
 "nbformat_minor": 2
}
